{
 "cells": [
  {
   "cell_type": "markdown",
   "metadata": {},
   "source": [
    "                                        EL MÉTODO OTSU EN EL PROCESAMIENTO DE IMÁGENES\n",
    "\n",
    "El método de Otsu es una técnica de umbralización automática utilizada en procesamiento de imágenes para separar las regiones de interés de las regiones de fondo en una imagen en escala de grises. Fue propuesto por Nobuyuki Otsu en 1979 y se basa en la idea de \"encontrar un umbral óptimo que minimice la varianza intra-clase o maximice la varianza inter-clase de los niveles de intensidad de píxeles.\" (Otsu, 1979)\n",
    "\n",
    "El método de Otsu funciona de la siguiente manera:\n",
    "\n",
    "1. Calcula el histograma de la imagen en escala de grises, que muestra la frecuencia de cada nivel de intensidad de píxel en la imagen.\n",
    "2. Luego, calcula la probabilidad de ocurrencia de cada nivel de intensidad dividiendo el número de píxeles con esa intensidad por el número total de píxeles en la imagen.\n",
    "3. A continuación, calcula la varianza intra-clase para cada nivel de intensidad posible como la suma ponderada de las varianzas de las clases separadas por el umbral.\n",
    "4. Finalmente, selecciona el umbral que minimiza la varianza intra-clase o maximiza la varianza inter-clase.\n",
    "\n",
    "El umbral óptimo resultante se utiliza para binarizar la imagen, es decir, convertirla en una imagen binaria donde los píxeles se clasifican como objetos de interés (blancos) o fondo (negros) según su intensidad con respecto al umbral.\n",
    "\n",
    "En la sección de código de este archivo se expone un ejemplo de aplicación de este método en un caso práctico.\n",
    "\n",
    "BIBLIOGRAFÍA\n",
    "\n",
    "Otsu, N. (1979). A Threshold Selection Method from Gray-Level Histograms. IEEE Transactions on Systems, Man, and Cybernetics, 9(1), 62–66. https://doi.org/10.1109/TSMC.1979.4310076"
   ]
  },
  {
   "cell_type": "code",
   "execution_count": null,
   "metadata": {},
   "outputs": [],
   "source": []
  }
 ],
 "metadata": {
  "kernelspec": {
   "display_name": "viborita",
   "language": "python",
   "name": "python3"
  },
  "language_info": {
   "name": "python",
   "version": "3.12.1"
  }
 },
 "nbformat": 4,
 "nbformat_minor": 2
}
