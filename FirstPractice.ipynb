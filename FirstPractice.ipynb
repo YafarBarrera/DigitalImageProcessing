{
 "cells": [
  {
   "cell_type": "markdown",
   "metadata": {},
   "source": [
    "Ejercicio 1"
   ]
  },
  {
   "cell_type": "code",
   "execution_count": 3,
   "metadata": {},
   "outputs": [
    {
     "name": "stdout",
     "output_type": "stream",
     "text": [
      "The fact is:  120\n"
     ]
    }
   ],
   "source": [
    "fact=1\n",
    "num=int(input(\"Enter an int number\"))\n",
    "for i in range(1,num+1):\n",
    "    fact*=i\n",
    "print(\"The fact is: \",fact)"
   ]
  },
  {
   "cell_type": "markdown",
   "metadata": {},
   "source": [
    "Ejercicio 2"
   ]
  },
  {
   "cell_type": "code",
   "execution_count": 4,
   "metadata": {},
   "outputs": [
    {
     "name": "stdout",
     "output_type": "stream",
     "text": [
      "El número ES PRIMO\n"
     ]
    }
   ],
   "source": [
    "cen=0\n",
    "num=int(input(\"Enter an int number\"))\n",
    "for i in range(1,num+1):\n",
    "    if num%i==0:\n",
    "        cen+=1\n",
    "if cen!=2:\n",
    "    print(\"This IS a Prime Number\")\n",
    "else:\n",
    "    print(\"This IS NOT a Prime Number\")"
   ]
  },
  {
   "cell_type": "markdown",
   "metadata": {},
   "source": [
    "Ejercicio 3"
   ]
  },
  {
   "cell_type": "code",
   "execution_count": 12,
   "metadata": {},
   "outputs": [
    {
     "name": "stdout",
     "output_type": "stream",
     "text": [
      "The largest number is:  6  and the smallest number is:  0\n"
     ]
    }
   ],
   "source": [
    "max,min, lim=0,0,0\n",
    "lim= int(input(\"Enter a limit of inputs largest than 3\"))\n",
    "for i in range(1,lim+1):\n",
    "    num=int(input(\"Enter the number\"))\n",
    "    if num>=max:\n",
    "        max=num\n",
    "    if num<min:\n",
    "        min=num\n",
    "print(\"The largest number is: \",max, \" and the smallest number is: \", min)"
   ]
  },
  {
   "cell_type": "markdown",
   "metadata": {},
   "source": [
    "Ejercicio 4"
   ]
  },
  {
   "cell_type": "code",
   "execution_count": 19,
   "metadata": {},
   "outputs": [
    {
     "name": "stdout",
     "output_type": "stream",
     "text": [
      "NO ES palíndromo.\n"
     ]
    }
   ],
   "source": [
    "boo = True\n",
    "sentence=input(\"Enter a string\")\n",
    "sentence2=''\n",
    "for i in sentence:\n",
    "    if i!=' ':\n",
    "        sentence2=sentence2+i\n",
    "#leng=sentence2.len()\n",
    "#cen = sentence2.len()-1\n",
    "leng=len(sentence2)\n",
    "cen=len(sentence2)-1\n",
    "for j in range(0,leng):\n",
    "    if sentence2[j]!=sentence2[cen]:\n",
    "        boo=False\n",
    "    cen-=1\n",
    "if boo:\n",
    "    print(\"String IS A palindrome.\")\n",
    "else:\n",
    "    print(\"String IS NOT palindrome.\")"
   ]
  },
  {
   "cell_type": "markdown",
   "metadata": {},
   "source": [
    "Ejercicio 6"
   ]
  },
  {
   "cell_type": "code",
   "execution_count": 14,
   "metadata": {},
   "outputs": [
    {
     "name": "stdout",
     "output_type": "stream",
     "text": [
      "Strings are not anagrams.\n"
     ]
    }
   ],
   "source": [
    "sentence = input(\"Enter a string: \")\n",
    "sentence2 = input(\"Enter a second string: \")\n",
    "new_sentence = \"\"\n",
    "new_sentence2 = \"\"\n",
    "for i in sentence:\n",
    "    if i!=' ':\n",
    "        new_sentence=new_sentence+i\n",
    "for i in sentence2:\n",
    "    if i!=' ':\n",
    "        new_sentence2=new_sentence2+i\n",
    "new_sentence = new_sentence.lower()\n",
    "new_sentence2=new_sentence2.lower()\n",
    "if len(new_sentence) != len(new_sentence2):\n",
    "    print(\"Strings are not anagrams.\")\n",
    "else:\n",
    "    if sorted(new_sentence) == sorted(new_sentence2):\n",
    "        print(\"Strings are anagrams.\")\n",
    "    else:\n",
    "        print(\"Strings are not anagrams.\")"
   ]
  },
  {
   "cell_type": "markdown",
   "metadata": {},
   "source": [
    "Ejercicio 7"
   ]
  },
  {
   "cell_type": "code",
   "execution_count": 2,
   "metadata": {},
   "outputs": [
    {
     "name": "stdout",
     "output_type": "stream",
     "text": [
      "Previous array order:  [12, 3, 1, 19, 14]\n",
      "Actual array order:  [1, 3, 12, 14, 19]\n"
     ]
    }
   ],
   "source": [
    "array = [12, 3, 1, 19, 14]\n",
    "print(\"Previous array order: \",array)\n",
    "n = len(array)\n",
    "for i in range(n-1):       \n",
    "        for j in range(n-1-i): \n",
    "            if array[j] > array[j+1]:\n",
    "                array[j], array[j+1] = array[j+1], array[j]\n",
    "print(\"Actual array order: \", array)\n"
   ]
  },
  {
   "cell_type": "markdown",
   "metadata": {},
   "source": [
    "Problema 5"
   ]
  },
  {
   "cell_type": "code",
   "execution_count": 12,
   "metadata": {},
   "outputs": [
    {
     "name": "stdout",
     "output_type": "stream",
     "text": [
      "Enter 7 numbers:\n",
      "The number that is repeated the most is:  [1, 2]\n",
      "The number of times it is repeated is:  3\n"
     ]
    }
   ],
   "source": [
    "nums=[]\n",
    "num=[]\n",
    "boo = True\n",
    "max,cen, aux=0,0,0\n",
    "print(\"Enter 7 numbers:\")\n",
    "for i in range(7):\n",
    "    nums.append(int(input()))\n",
    "size = len(nums)\n",
    "for i in range(0,size):\n",
    "    for j in range(0,size):\n",
    "        if nums[i]==nums[j]:\n",
    "            aux+=1\n",
    "    if aux>max:\n",
    "        max=aux\n",
    "    aux=0\n",
    "for i in range(0,size):\n",
    "    for j in range(0,size):\n",
    "        if nums[i]==nums[j]:\n",
    "            aux+=1\n",
    "    if aux==max:\n",
    "        if len(num)==0:\n",
    "            num.append(nums[i])\n",
    "        else:\n",
    "            for k in range(0,len(num)):\n",
    "                if nums[i]==num[k]:\n",
    "                    boo=False\n",
    "            if boo:\n",
    "                num.append(nums[i])\n",
    "            boo = True\n",
    "        cen+=1\n",
    "    aux=0\n",
    "print(\"The number that is repeated the most is: \", num)\n",
    "print(\"The number of times it is repeated is: \", max)"
   ]
  }
 ],
 "metadata": {
  "kernelspec": {
   "display_name": "viborita",
   "language": "python",
   "name": "python3"
  },
  "language_info": {
   "codemirror_mode": {
    "name": "ipython",
    "version": 3
   },
   "file_extension": ".py",
   "mimetype": "text/x-python",
   "name": "python",
   "nbconvert_exporter": "python",
   "pygments_lexer": "ipython3",
   "version": "3.12.1"
  }
 },
 "nbformat": 4,
 "nbformat_minor": 2
}
