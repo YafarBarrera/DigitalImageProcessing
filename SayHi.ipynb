{
 "cells": [
  {
   "cell_type": "code",
   "execution_count": null,
   "metadata": {},
   "outputs": [],
   "source": [
    "print(\"Hi Viborita!\")\n",
    "sayhi='hello!'\n",
    "sayhi\n",
    "product = 3*3\n",
    "print(product)"
   ]
  },
  {
   "cell_type": "code",
   "execution_count": null,
   "metadata": {},
   "outputs": [],
   "source": [
    "a=0\n",
    "for i in range(1,6):\n",
    "    print(sayhi+str(i))\n",
    "    print(i)\n",
    "    a=a+i;\n",
    "print(a)"
   ]
  },
  {
   "cell_type": "code",
   "execution_count": null,
   "metadata": {},
   "outputs": [],
   "source": [
    "fib,n1,n2,pos=0,0,1,0\n",
    "print(\"Enter a number\")\n",
    "pos=input()\n",
    "if pos==0:\n",
    "    print(\"The Fib number is \"+ str(fib))\n",
    "elif pos==1:\n",
    "    print(\"The Fib number is \"+ str(fib))\n",
    "else:\n",
    "    pos-=1\n",
    "    for i in range(0,pos):\n",
    "        pos=n1+n2\n",
    "        n1=n2\n",
    "        n2=pos\n",
    "    print(\"The Fib number is \"+ str(fib))\n"
   ]
  },
  {
   "cell_type": "code",
   "execution_count": null,
   "metadata": {},
   "outputs": [],
   "source": [
    "area, peri,w,h,l1,l2,l3=0,0,0,0\n",
    "print(\"WELCOME TO TRIANGLE AREA CALCULATOR\")\n",
    "print(\"Enter the heiht value\")\n",
    "float=input()\n",
    "print(\"Enter the width value\")\n",
    "w=input()\n",
    "print(\"Enter L1 value\")\n",
    "l1=input()\n",
    "print(\"Enter L2 value\")\n",
    "l2=input()\n",
    "print(\"Enter L3 value\")\n",
    "l3=input()\n",
    "area=(w*h)/2\n",
    "peri=l1+l2+l3\n",
    "print(\"The triangle's area is \" + str(area))\n",
    "print(\"The triangle's peri is \" + str(peri))"
   ]
  },
  {
   "cell_type": "code",
   "execution_count": 23,
   "metadata": {},
   "outputs": [
    {
     "name": "stdout",
     "output_type": "stream",
     "text": [
      "Enter a word\n",
      "U\n",
      "I\n",
      "A\n",
      "E\n",
      "UnIvAllE\n"
     ]
    }
   ],
   "source": [
    "print(\"Enter a word\")\n",
    "word=input()\n",
    "word2=\"\"\n",
    "#print(\"Enter a number\")\n",
    "#w=int(input())\n",
    "for i in word:\n",
    "    if(i=='a'):\n",
    "        print(i.upper())\n",
    "    elif(i=='e'):\n",
    "        print(i.upper())\n",
    "    elif(i=='i'):\n",
    "        print(i.upper())\n",
    "    elif(i=='o'):\n",
    "        print(i.upper())\n",
    "    elif(i=='u'):\n",
    "        print(i.upper())\n",
    "for i in word:\n",
    "    if(i=='a'):\n",
    "        word2=word2+i.upper()\n",
    "    elif(i=='e'):\n",
    "        word2=word2+i.upper()\n",
    "    elif(i=='i'):\n",
    "        word2=word2+i.upper()\n",
    "    elif(i=='o'):\n",
    "        word2=word2+i.upper()\n",
    "    elif(i=='u'):\n",
    "        word2=word2+i.upper()\n",
    "    else:\n",
    "        word2=word2+i\n",
    "print(word2)"
   ]
  }
 ],
 "metadata": {
  "kernelspec": {
   "display_name": "viborita",
   "language": "python",
   "name": "python3"
  },
  "language_info": {
   "codemirror_mode": {
    "name": "ipython",
    "version": 3
   },
   "file_extension": ".py",
   "mimetype": "text/x-python",
   "name": "python",
   "nbconvert_exporter": "python",
   "pygments_lexer": "ipython3",
   "version": "3.12.1"
  }
 },
 "nbformat": 4,
 "nbformat_minor": 2
}
